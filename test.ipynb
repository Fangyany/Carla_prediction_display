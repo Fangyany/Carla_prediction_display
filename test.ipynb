{
 "cells": [
  {
   "cell_type": "code",
   "execution_count": 1,
   "metadata": {},
   "outputs": [
    {
     "ename": "",
     "evalue": "",
     "output_type": "error",
     "traceback": [
      "\u001b[1;31mThe Kernel crashed while executing code in the the current cell or a previous cell. Please review the code in the cell(s) to identify a possible cause of the failure. Click <a href='https://aka.ms/vscodeJupyterKernelCrash'>here</a> for more info. View Jupyter <a href='command:jupyter.viewOutput'>log</a> for further details."
     ]
    }
   ],
   "source": [
    "import carla\n",
    "\n",
    "def visualize_drivable_area(world):\n",
    "    # 获取地图\n",
    "    map = world.get_map()\n",
    "\n",
    "    # 获取地图的所有道路点\n",
    "    waypoints = map.generate_waypoints(1.0)\n",
    "\n",
    "    for waypoint in waypoints:\n",
    "        # 判断是否为可行的道路区域\n",
    "        if waypoint.lane_type == carla.LaneType.Driving:\n",
    "            location = waypoint.transform.location\n",
    "            world.debug.draw_point(location, size=0.1, color=carla.Color(r=0, g=255, b=0), life_time=100)\n",
    "        else:\n",
    "            location = waypoint.transform.location\n",
    "            world.debug.draw_point(location, size=0.1, color=carla.Color(r=255, g=0, b=0), life_time=100)\n",
    "\n",
    "# 使用示例\n",
    "client = carla.Client('localhost', 2000)\n",
    "client.set_timeout(10.0)\n",
    "world = client.get_world()\n",
    "\n",
    "# 可视化所有的道路点\n",
    "visualize_drivable_area(world)\n"
   ]
  }
 ],
 "metadata": {
  "kernelspec": {
   "display_name": "carla",
   "language": "python",
   "name": "python3"
  },
  "language_info": {
   "codemirror_mode": {
    "name": "ipython",
    "version": 3
   },
   "file_extension": ".py",
   "mimetype": "text/x-python",
   "name": "python",
   "nbconvert_exporter": "python",
   "pygments_lexer": "ipython3",
   "version": "3.7.1"
  }
 },
 "nbformat": 4,
 "nbformat_minor": 2
}
